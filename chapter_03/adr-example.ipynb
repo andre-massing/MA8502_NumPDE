{
 "cells": [
  {
   "cell_type": "markdown",
   "metadata": {},
   "source": [
    "(sec:std-fem-adr)=\n",
    "## Challenged for standard finite element discretizations of the ADR problem\n",
    "\n",
    "In this section, we have a look at the numerical challenges we encounter\n",
    "when we try to discretize advection-dominant ADR problems with\n",
    "a standard finite element method.   "
   ]
  },
  {
   "cell_type": "markdown",
   "metadata": {},
   "source": [
    "### Example 1: Solution with an exponential boundary layer\n",
    "\n",
    "\\begin{equation}\n",
    "\\left\\lbrace\n",
    "\\begin{aligned}\n",
    "-\\Delta u &= f  \\ \\text{in} \\ \\Omega\\\\\n",
    "u &= 0 \\ \\text{on}\\ \\partial\\Omega.\\\\\n",
    "\\end{aligned}\n",
    "\\right.\n",
    "\\end{equation}"
   ]
  },
  {
   "cell_type": "markdown",
   "metadata": {},
   "source": [
    "The function $u_{\\epsilon} = x\\dfrac{1-e^{(y-1)/\\epsilon}}{1-e^{-2/\\epsilon}}$ \n",
    "solves the PDE\n",
    "\n",
    "\\begin{align*}\n",
    "-\\epsilon \\Delta u_{\\epsilon} + \\boldsymbol{b}\\cdot \\nabla u_{\\epsilon} = f \\quad \\text{in } \\Omega\n",
    "\\end{align*}\n",
    "\n",
    "with domain $\\Omega = [-1,1]^2$, velocity field $\\boldsymbol{b} = (0,1)$, right-hand side $f=0$, and Dirichlet boundary conditions given by $u_\\epsilon$. \n",
    "This function is a typical example\n",
    "of a solution which exhibits an exponential boundary layer at the outflow boundary. The width of this boundary layer is $\\approx \\mathcal{O}(\\epsilon)$.\n",
    "Now plot the solution for various $\\epsilon$,, e.g. $\\epsilon = 1, 10^{-1}, 10^{-3}, 10^{-5}$:"
   ]
  },
  {
   "cell_type": "code",
   "execution_count": null,
   "metadata": {},
   "outputs": [],
   "source": [
    "import numpy as np\n",
    "import matplotlib.pyplot as plt\n",
    "from matplotlib import cm\n",
    "\n",
    "def plot2D(X, Y, Z, title=\"\"):\n",
    "    # Define a new figure with given size an\n",
    "    fig = plt.figure(figsize=(8, 6), dpi=100)\n",
    "    # ax = fig.gca(projection='3d')\n",
    "    ax = plt.axes(projection='3d')\n",
    "    surf = ax.plot_surface(X, Y, Z,             \n",
    "                            rstride=1, cstride=1, # Sampling rates for the x and y input data\n",
    "                            cmap=cm.plasma)      # Use the colormap plasma\n",
    "    \n",
    "    # Set initial view angle\n",
    "    ax.view_init(30, 225)\n",
    "    \n",
    "    # Set labels and show figure\n",
    "    ax.set_xlabel('$x$')\n",
    "    ax.set_ylabel('$y$')\n",
    "    ax.set_zlabel('$u(x,y)$')\n",
    "    ax.set_title(title)\n",
    "    fig.colorbar(surf, ax=ax, shrink=0.5, aspect=10)\n",
    "    plt.show()"
   ]
  },
  {
   "cell_type": "code",
   "execution_count": null,
   "metadata": {},
   "outputs": [],
   "source": [
    "# Example of solution with boundary layer\n",
    "def u_ex(x, y, eps):\n",
    "    return x*(1-np.exp((y-1)/eps))/(1-np.exp(-2/eps))\n",
    "              \n",
    "# Define subdivions in each direction\n",
    "n = 50\n",
    "\n",
    "# To define the grid we use \"linspace\" in each direction ...\n",
    "xi = np.linspace(-1,1,n+1)\n",
    "yi = np.linspace(-1,1,n+1)\n",
    "\n",
    "x,y = np.meshgrid(xi,yi,sparse=True)\n",
    "\n",
    "# Evaluate u on the grid. The output will be a 2 dimensional array \n",
    "# where U_ex_grid[i,j] = u_ex(x_i, y_j)\n",
    "eps = 1e-3\n",
    "U_ex_grid = u_ex(x,y, eps)"
   ]
  },
  {
   "cell_type": "code",
   "execution_count": null,
   "metadata": {
    "tags": []
   },
   "outputs": [],
   "source": [
    "# %matplotlib widget\n",
    "plot2D(x, y, U_ex_grid, title=\"$u(x,y)$\")"
   ]
  },
  {
   "cell_type": "markdown",
   "metadata": {},
   "source": [
    "## Example 2: Trying to solve the previous example with a standard finite element method"
   ]
  },
  {
   "cell_type": "markdown",
   "metadata": {},
   "source": [
    "Now we illustrate what happens if you try to solve the example above with a standard finite element method, where we seek $u_h \\in V_{h,g} = \\PP^k_c(\\mcT_h)\n",
    "\\cap H^1_g(\\Omega)$ \n",
    "such that $\\forall v \\in V_{h,0}$:\n",
    "\n",
    "$$\n",
    "a(u_h, v) := \\epsilon(\\nabla u_h, \\nabla v)_{\\Omega} + (b \\cdot \\nabla u_h, v_h)_{\\Omega} + (c u_h, v_h)_{\\Omega} = (f,v)_{\\Omega} =: l(v)\n",
    "$$\n",
    "\n",
    "At the same time we use this example to recap the basic syntax of the finite element library [ngsolve](https://ngsolve.org), which has a large number of [Jupyter tutorials](https://ngsolve.org/docu/v6.2.2008/i-tutorials/index.html#).\n",
    "The code below is basically compiled from \n",
    "[unit-1.1-poisson](https://ngsolve.org/docu/v6.2.2008/i-tutorials/unit-1.1-poisson/poisson.html) (solving Poisson with homogeneous Dirichlet b.c),\n",
    "[unit-1.2-coefficient](https://ngsolve.org/docu/v6.2.2008/i-tutorials/unit-1.2-coefficient/coefficientfunction.html) (using coefficient functions to define $\\bfb$), and\n",
    "[unit-1.3-dirichlet](https://ngsolve.org/docu/v6.2.2008/i-tutorials/unit-1.3-dirichlet/dirichlet.html) (implemementation of non-homogeneous Dirichlet b.c.).\n",
    "\n",
    "We will (try to) solve the problem for $\\epsilon = 10^{-3}$."
   ]
  },
  {
   "cell_type": "markdown",
   "metadata": {},
   "source": [
    "First, we start by importing the necessary modules for ngsolve (the finite element module)\n",
    "and the Opencascade ```occ``` submodule which is part of the ```netgen``` module for mesh generation."
   ]
  },
  {
   "cell_type": "code",
   "execution_count": null,
   "metadata": {},
   "outputs": [],
   "source": [
    "from ngsolve import *\n",
    "from ngsolve.webgui import Draw\n",
    "from netgen.occ import *"
   ]
  },
  {
   "cell_type": "markdown",
   "metadata": {},
   "source": [
    "Note that if you want to implement your code in pure Python script,\n",
    "then you would rather import the old gui interface\n",
    "```python\n",
    "from netgen import gui\n",
    "```\n",
    "Also, to start up the python file with the netgen gui, you have to\n",
    "execute the python file in the terminal via\n",
    "```\n",
    "netgen <PYTHONFILE.py>\n",
    "```\n",
    "rather then just typing `python <PYTHONFILE.py>`.\n",
    "\n",
    "The next block generate first a domain description and then a mesh (unstructured) for\n",
    "the doman $\\Omega = [-1,1]^2$ with a given $h_{\\mathrm{max}}$.\n",
    "\n",
    "Note that for the unit square domain, there exists a shortcut for the domain description and you can simply write \n",
    "```python \n",
    "from ngsolve import *\n",
    "mesh = Mesh(unit_square.GenerateMesh(maxh=0.2))\n",
    "```"
   ]
  },
  {
   "cell_type": "code",
   "execution_count": null,
   "metadata": {},
   "outputs": [],
   "source": [
    "shape = Rectangle(2,2).Face().Move((-1,-1, 0))\n",
    "shape.edges.name=\"rectangle\"\n",
    "mesh = Mesh(OCCGeometry(shape, dim=2).GenerateMesh(maxh=0.25))\n",
    "print(f\"Boundary domains: {mesh.GetBoundaries()}\")\n",
    "Draw(mesh)"
   ]
  },
  {
   "cell_type": "markdown",
   "metadata": {},
   "source": [
    "Next, we define the exact solution ```u_ex``` as a *coefficient function* in NGSolve and plot it."
   ]
  },
  {
   "cell_type": "code",
   "execution_count": null,
   "metadata": {},
   "outputs": [],
   "source": [
    "# Define exact solution \n",
    "eps = 1.0e-3\n",
    "u_ex = x*(1-exp((y-1)/eps))/(1-exp(-2/eps))\n",
    "Draw(u_ex, mesh, name=\"u_ex\")\n",
    "\n",
    "# Define coefficients for PDE and exact solution\n",
    "b = CoefficientFunction((0,1))\n",
    "Draw(b, mesh, \"b\", vectors=True)"
   ]
  },
  {
   "cell_type": "markdown",
   "metadata": {},
   "source": [
    "Let us redraw the function $u$ with different gui settings for ngsolve's webgui and with a different camera angle (defined\n",
    "by the Euler rotation angles.)"
   ]
  },
  {
   "cell_type": "code",
   "execution_count": null,
   "metadata": {},
   "outputs": [],
   "source": [
    "# Gui settings\n",
    "gui_settings = settings = { \"subdivision\" : 1, \"deformation\": 1.0, \"Colormap\" : { \"ncolors\" : 32 } }\n",
    "Draw (u_ex, mesh, name=\"u_ex\", settings=gui_settings, euler_angles=[-90,0,60])\n",
    "help(Draw)"
   ]
  },
  {
   "cell_type": "markdown",
   "metadata": {},
   "source": [
    "Note that the boundary layer in the plot above does not seem to be as steep as in matplotlib plot we saw earlier, but this is just a numerical artefact. Since the mesh\n",
    "we use is rather coarse, the underlying finite element space cannot resolve the boundary layer and and thus the transition of the interpolated function $\\mathcal{I}_h(u_{\\mathrm{ex}})$\n",
    "happens basically in one layer of elements which is of course much wider than the actual boundary layer."
   ]
  },
  {
   "cell_type": "markdown",
   "metadata": {},
   "source": [
    "In the next step, we define the discrete trial and test functions and their respectives spaces we want to use."
   ]
  },
  {
   "cell_type": "code",
   "execution_count": null,
   "metadata": {},
   "outputs": [],
   "source": [
    "# Define function spaces\n",
    "p_order = 1\n",
    "V = H1(mesh, order=p_order, dirichlet=\"rectangle\")\n",
    "u = V.TrialFunction()\n",
    "v = V.TestFunction()\n",
    "# Alternative shortcut\n",
    "#u,v = V.TnT()"
   ]
  },
  {
   "cell_type": "markdown",
   "metadata": {},
   "source": [
    "Now we can define bilinear form and linear form and assemble\n",
    "them into a matrix and right-hand side vector, respectively.\n",
    "Note that since $f=0$ in our case, we don't need\n",
    "to assemble anything as the underlying vector associated\n",
    "with ```l``` is initialized with a $0$ vector matching the dimension of the discrete function space. You can check\n",
    "that easily by printing it\n",
    "```python\n",
    "print(l.vec)\n",
    "```"
   ]
  },
  {
   "cell_type": "code",
   "execution_count": null,
   "metadata": {},
   "outputs": [],
   "source": [
    "a = BilinearForm(V) \n",
    "a += eps*grad(u)*grad(v)*dx\n",
    "a += b*grad(u)*v*dx\n",
    "a.Assemble()\n",
    "\n",
    "l = LinearForm(V)\n",
    "# If right-hand side is 0, we don't need to do anything\n",
    "#l += 0*v*dx\n",
    "# l.Assemble()"
   ]
  },
  {
   "cell_type": "markdown",
   "metadata": {},
   "source": [
    "Note that we need to incorporate the inhomogeneous Dirichlet boundary data before we solve the linear system,\n",
    "see [unit-1.3-dirichlet](https://ngsolve.org/docu/v6.2.2008/i-tutorials/unit-1.3-dirichlet/dirichlet.html) for a detailed explanation."
   ]
  },
  {
   "cell_type": "code",
   "execution_count": null,
   "metadata": {},
   "outputs": [],
   "source": [
    "# Set boundary data\n",
    "u_h = GridFunction(V)\n",
    "u_h.Set(u_ex, BND)\n",
    "Draw(u_h, name=\"u_D\", settings=gui_settings)\n"
   ]
  },
  {
   "cell_type": "markdown",
   "metadata": {},
   "source": [
    "Finally, we can compute and plot the finite element solution to our ADR problem."
   ]
  },
  {
   "cell_type": "code",
   "execution_count": null,
   "metadata": {},
   "outputs": [],
   "source": [
    "# Solve final system\n",
    "r = l.vec.CreateVector()\n",
    "r.data = l.vec - a.mat*u_h.vec\n",
    "print(type(r.data))\n",
    "u_h.vec.data += a.mat.Inverse(freedofs=V.FreeDofs())*r\n",
    "Draw(u_h, name=\"u_h\", settings=gui_settings)"
   ]
  },
  {
   "cell_type": "markdown",
   "metadata": {},
   "source": [
    "Finally, we write out the solution as vtk file for visualization with paraview."
   ]
  },
  {
   "cell_type": "code",
   "execution_count": null,
   "metadata": {},
   "outputs": [],
   "source": [
    "vtk = VTKOutput(ma=mesh,coefs=[u_ex, u_h],\n",
    "                names=[\"u_ex\",\"u_h\"],\n",
    "                filename=\"adr-example\",\n",
    "                subdivision=1)\n",
    "vtk.Do()"
   ]
  }
 ],
 "metadata": {
  "kernelspec": {
   "display_name": "Python 3 (ipykernel)",
   "language": "python",
   "name": "python3"
  },
  "language_info": {
   "codemirror_mode": {
    "name": "ipython",
    "version": 3
   },
   "file_extension": ".py",
   "mimetype": "text/x-python",
   "name": "python",
   "nbconvert_exporter": "python",
   "pygments_lexer": "ipython3",
   "version": "3.12.5"
  },
  "vscode": {
   "interpreter": {
    "hash": "916dbcbb3f70747c44a77c7bcd40155683ae19c65e1c03b4aa3499c5328201f1"
   }
  }
 },
 "nbformat": 4,
 "nbformat_minor": 4
}
