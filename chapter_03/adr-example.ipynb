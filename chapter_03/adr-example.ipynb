{
 "cells": [
  {
   "cell_type": "markdown",
   "metadata": {},
   "source": [
    "(sec:std-fem-adr)=\n",
    "## Challenges for standard finite element discretizations of the ADR problem\n",
    "\n",
    "In this section, we have a look at the numerical challenges we encounter\n",
    "when we try to discretize advection-dominant ADR problems with\n",
    "a standard finite element method.   "
   ]
  },
  {
   "cell_type": "markdown",
   "metadata": {},
   "source": [
    "(ssec:example-boudary-layer-ana)=\n",
    "### Example 1: Solution with an exponential boundary layer"
   ]
  },
  {
   "cell_type": "markdown",
   "metadata": {},
   "source": [
    "The function $u_{\\epsilon} = x\\dfrac{1-e^{(y-1)/\\epsilon}}{1-e^{-2/\\epsilon}}$ \n",
    "solves the PDE\n",
    "\n",
    "\\begin{align*}\n",
    "-\\epsilon \\Delta u_{\\epsilon} + \\boldsymbol{b}\\cdot \\nabla u_{\\epsilon} = f \\quad \\text{in } \\Omega\n",
    "\\end{align*}\n",
    "\n",
    "with domain $\\Omega = [-1,1]^2$, velocity field $\\boldsymbol{b} = (0,1)$, right-hand side $f=0$, and Dirichlet boundary conditions given by $u_\\epsilon$. \n",
    "This function is a typical example\n",
    "of a solution which exhibits an exponential boundary layer at the outflow boundary. The width of this boundary layer is $\\approx \\mathcal{O}(\\epsilon)$.\n",
    "Now plot the solution for various $\\epsilon$,, e.g. $\\epsilon = 1, 10^{-1}, 10^{-3}, 10^{-5}$:"
   ]
  },
  {
   "cell_type": "code",
   "execution_count": null,
   "metadata": {},
   "outputs": [],
   "source": [
    "import numpy as np\n",
    "import matplotlib.pyplot as plt\n",
    "from matplotlib import cm\n",
    "\n",
    "def plot2D(X, Y, Z, title=\"\"):\n",
    "    # Define a new figure with given size an\n",
    "    fig = plt.figure(figsize=(8, 6), dpi=100)\n",
    "    # ax = fig.gca(projection='3d')\n",
    "    ax = plt.axes(projection='3d')\n",
    "    surf = ax.plot_surface(X, Y, Z,             \n",
    "                            rstride=1, cstride=1, # Sampling rates for the x and y input data\n",
    "                            cmap=cm.plasma)      # Use the colormap plasma\n",
    "    \n",
    "    # Set initial view angle\n",
    "    ax.view_init(30, 225)\n",
    "   \n",
    " \n",
    "    # Set labels and show figure\n",
    "    ax.set_xlabel('$x$')\n",
    "    ax.set_ylabel('$y$')\n",
    "    ax.set_zlabel('$u(x,y)$')\n",
    "    ax.set_title(title)\n",
    "    fig.colorbar(surf, ax=ax, shrink=0.5, aspect=10)\n",
    "    plt.show()"
   ]
  },
  {
   "cell_type": "code",
   "execution_count": null,
   "metadata": {},
   "outputs": [],
   "source": [
    "# Example of solution with boundary layer\n",
    "def u_ex(x, y, eps):\n",
    "    return x*(1-np.exp((y-1)/eps))/(1-np.exp(-2/eps))\n",
    "              \n",
    "# Define subdivions in each direction\n",
    "n = 50\n",
    "\n",
    "# To define the grid we use \"linspace\" in each direction ...\n",
    "xi = np.linspace(-1,1,n+1)\n",
    "yi = np.linspace(-1,1,n+1)\n",
    "\n",
    "x,y = np.meshgrid(xi,yi,sparse=True)\n",
    "\n",
    "# Evaluate u on the grid. The output will be a 2 dimensional array \n",
    "# where U_ex_grid[i,j] = u_ex(x_i, y_j)\n",
    "eps = 1e-3\n",
    "U_ex_grid = u_ex(x,y, eps)"
   ]
  },
  {
   "cell_type": "code",
   "execution_count": null,
   "metadata": {
    "tags": []
   },
   "outputs": [],
   "source": [
    "%matplotlib widget\n",
    "plot2D(x, y, U_ex_grid, title=\"$u(x,y)$\")"
   ]
  },
  {
   "cell_type": "markdown",
   "metadata": {},
   "source": [
    "(ssec:example-boudary-layer-num)=\n",
    "### Example 2: Trying to solve the previous example with a standard finite element method"
   ]
  },
  {
   "cell_type": "markdown",
   "metadata": {},
   "source": [
    "Now we illustrate what happens if you try to solve the example above with a standard finite element method, where we seek $u_h \\in V_{h,g} = \\PP^k_c(\\mcT_h)\n",
    "\\cap H^1_g(\\Omega)$ \n",
    "such that $\\forall v \\in V_{h,0}$:\n",
    "\n",
    "$$\n",
    "a(u_h, v) := \\epsilon(\\nabla u_h, \\nabla v)_{\\Omega} + (b \\cdot \\nabla u_h, v_h)_{\\Omega} + (c u_h, v_h)_{\\Omega} = (f,v)_{\\Omega} =: l(v)\n",
    "$$\n",
    "\n",
    "At the same time we use this example to recap the basic syntax of the finite element library [ngsolve](https://ngsolve.org), which has a large number of [Jupyter tutorials](https://ngsolve.org/docu/v6.2.2008/i-tutorials/index.html#).\n",
    "The code below is basically compiled from \n",
    "[unit-1.1-poisson](https://ngsolve.org/docu/v6.2.2008/i-tutorials/unit-1.1-poisson/poisson.html) (solving Poisson with homogeneous Dirichlet b.c),\n",
    "[unit-1.2-coefficient](https://ngsolve.org/docu/v6.2.2008/i-tutorials/unit-1.2-coefficient/coefficientfunction.html) (using coefficient functions to define $\\bfb$), and\n",
    "[unit-1.3-dirichlet](https://ngsolve.org/docu/v6.2.2008/i-tutorials/unit-1.3-dirichlet/dirichlet.html) (implemementation of non-homogeneous Dirichlet b.c.).\n",
    "\n",
    "We will (try to) solve the problem for $\\epsilon = 10^{-3}$."
   ]
  },
  {
   "cell_type": "markdown",
   "metadata": {},
   "source": [
    "First, we start by importing the necessary modules for ngsolve (the finite element module)\n",
    "and the Opencascade ```occ``` submodule which is part of the ```netgen``` module for mesh generation."
   ]
  },
  {
   "cell_type": "code",
   "execution_count": null,
   "metadata": {},
   "outputs": [],
   "source": [
    "from ngsolve import *\n",
    "from ngsolve.webgui import Draw\n",
    "from netgen.occ import *"
   ]
  },
  {
   "cell_type": "markdown",
   "metadata": {},
   "source": [
    "Note that if you want to implement your code in pure Python script,\n",
    "then you would rather import the old gui interface\n",
    "```python\n",
    "from netgen import gui\n",
    "```\n",
    "Also, to start up the python file with the netgen gui, you have to\n",
    "execute the python file in the terminal via\n",
    "```\n",
    "netgen <PYTHONFILE.py>\n",
    "```\n",
    "rather then just typing `python <PYTHONFILE.py>`.\n",
    "\n",
    "The next block generate first a domain description and then a mesh (unstructured) for\n",
    "the doman $\\Omega = [-1,1]^2$ with a given $h_{\\mathrm{max}}$.\n",
    "\n",
    "Note that for the unit square domain, there exists a shortcut for the domain description and you can simply write \n",
    "```python \n",
    "from ngsolve import *\n",
    "mesh = Mesh(unit_square.GenerateMesh(maxh=0.2))\n",
    "```"
   ]
  },
  {
   "cell_type": "code",
   "execution_count": null,
   "metadata": {},
   "outputs": [],
   "source": [
    "shape = Rectangle(2,2).Face().Move((-1,-1, 0))\n",
    "shape.edges.name=\"rectangle\"\n",
    "maxh=0.2\n",
    "mesh = Mesh(OCCGeometry(shape, dim=2).GenerateMesh(maxh=maxh))\n",
    "print(f\"Boundary domains: {mesh.GetBoundaries()}\")\n",
    "Draw(mesh)"
   ]
  },
  {
   "cell_type": "markdown",
   "metadata": {},
   "source": [
    "Next, we define the exact solution ```u_ex``` as a *coefficient function* in NGSolve and plot it."
   ]
  },
  {
   "cell_type": "code",
   "execution_count": null,
   "metadata": {},
   "outputs": [],
   "source": [
    "# Define exact solution \n",
    "u_ex = x*(1-exp((y-1)/eps))/(1-exp(-2/eps))\n",
    "Draw(u_ex, mesh, name=\"u_ex\")"
   ]
  },
  {
   "cell_type": "markdown",
   "metadata": {},
   "source": [
    "We also plot the vector field $\\boldsymbol{b}$."
   ]
  },
  {
   "cell_type": "code",
   "execution_count": null,
   "metadata": {},
   "outputs": [],
   "source": [
    "# Define coefficients for PDE and exact solution\n",
    "b = CoefficientFunction((0,1))\n",
    "Draw(b, mesh, \"b\", vectors=True)"
   ]
  },
  {
   "cell_type": "markdown",
   "metadata": {},
   "source": [
    "Let us redraw the function $u$ with different gui settings for ngsolve's webgui and with a different camera angle (defined\n",
    "by the Euler rotation angles.)"
   ]
  },
  {
   "cell_type": "code",
   "execution_count": null,
   "metadata": {},
   "outputs": [],
   "source": [
    "# Gui settings\n",
    "gui_settings = settings = { \"subdivision\" : 1, \"deformation\": 1.0, \"Colormap\" : { \"ncolors\" : 32 } }\n",
    "Draw (u_ex, mesh, name=\"u_ex\", settings=gui_settings, euler_angles=[-90,0,60])\n",
    "help(Draw)"
   ]
  },
  {
   "cell_type": "markdown",
   "metadata": {},
   "source": [
    "Note that the boundary layer in the plot above does not seem to be as steep as in matplotlib plot we saw earlier, but this is just a numerical artefact. Since the mesh\n",
    "we use is rather coarse, the underlying finite element space cannot resolve the boundary layer and and thus the transition of the interpolated function $\\mathcal{I}_h(u_{\\mathrm{ex}})$\n",
    "happens basically in one layer of elements which is of course much wider than the actual boundary layer."
   ]
  },
  {
   "cell_type": "markdown",
   "metadata": {},
   "source": [
    "In the next step, we define the discrete trial and test functions and their respectives spaces we want to use."
   ]
  },
  {
   "cell_type": "code",
   "execution_count": null,
   "metadata": {},
   "outputs": [],
   "source": [
    "# Define function spaces\n",
    "p_order = 1\n",
    "V = H1(mesh, order=p_order, dirichlet=\"rectangle\")\n",
    "u = V.TrialFunction()\n",
    "v = V.TestFunction()\n",
    "# Alternative shortcut\n",
    "#u,v = V.TnT()"
   ]
  },
  {
   "cell_type": "markdown",
   "metadata": {},
   "source": [
    "Now we can define bilinear form and linear form and assemble\n",
    "them into a matrix and right-hand side vector, respectively.\n",
    "Note that since $f=0$ in our case, we don't need\n",
    "to assemble anything as the underlying vector associated\n",
    "with ```l``` is initialized with a $0$ vector matching the dimension of the discrete function space. You can check\n",
    "that easily by printing it\n",
    "```python\n",
    "print(l.vec)\n",
    "```"
   ]
  },
  {
   "cell_type": "code",
   "execution_count": null,
   "metadata": {},
   "outputs": [],
   "source": [
    "a = BilinearForm(V) \n",
    "a += eps*grad(u)*grad(v)*dx\n",
    "a += b*grad(u)*v*dx\n",
    "a.Assemble()\n",
    "\n",
    "l = LinearForm(V)\n",
    "# If right-hand side is 0, we don't need to do anything\n",
    "#l += 0*v*dx\n",
    "# l.Assemble()"
   ]
  },
  {
   "cell_type": "markdown",
   "metadata": {},
   "source": [
    "Note that we need to incorporate the inhomogeneous Dirichlet boundary data before we solve the linear system,\n",
    "see [unit-1.3-dirichlet](https://ngsolve.org/docu/v6.2.2008/i-tutorials/unit-1.3-dirichlet/dirichlet.html) for a detailed explanation."
   ]
  },
  {
   "cell_type": "code",
   "execution_count": null,
   "metadata": {},
   "outputs": [],
   "source": [
    "# Set boundary data\n",
    "u_h = GridFunction(V)\n",
    "u_h.Set(u_ex, BND)\n",
    "Draw(u_h, name=\"u_D\", settings=gui_settings)\n"
   ]
  },
  {
   "cell_type": "markdown",
   "metadata": {},
   "source": [
    "Finally, we can compute and plot the finite element solution to our ADR problem."
   ]
  },
  {
   "cell_type": "code",
   "execution_count": null,
   "metadata": {},
   "outputs": [],
   "source": [
    "# Solve final system\n",
    "r = l.vec.CreateVector()\n",
    "r.data = l.vec - a.mat*u_h.vec\n",
    "print(type(r.data))\n",
    "u_h.vec.data += a.mat.Inverse(freedofs=V.FreeDofs())*r\n",
    "Draw(u_h, name=\"u_h\", settings=gui_settings)"
   ]
  },
  {
   "cell_type": "markdown",
   "metadata": {},
   "source": [
    "Finally, we write out the solution as vtk file for visualization with paraview."
   ]
  },
  {
   "cell_type": "code",
   "execution_count": null,
   "metadata": {},
   "outputs": [],
   "source": [
    "vtk = VTKOutput(ma=mesh,coefs=[u_ex, u_h],\n",
    "                names=[\"u_ex\",\"u_h\"],\n",
    "                filename=\"adr-example\",\n",
    "                subdivision=1)\n",
    "vtk.Do()"
   ]
  },
  {
   "cell_type": "markdown",
   "metadata": {},
   "source": [
    "**Discussion: What did go wrong?**\n",
    "\n",
    "Why does the finite element method perform so badly for the advective dominant ADR problem?\n",
    "First, we recall that the exact solution exhibits a sharp transition layer which \n",
    "is much thinner than the last layer of the mesh elements touching the out flow boundary.\n",
    "\n",
    "From the perspective of the finite element function, the solution appears to be \n",
    "almost discontinuous since the sharp transition can not be resolved sufficiently\n",
    "as long as the mesh size is larger the the thickness of the boundary layer.\n",
    "As a result and without further interventions, our continuous finite element with\n",
    "suffer from large oscillations (similar to the Gibb's phenomena seen in \n",
    "Fourier series when approximating discontinuous functions), and moreover,\n",
    "those oscillations are not only localized in a neighborhood of the boundary\n",
    "layer, but they spread into the entire domain, completely destroying any\n",
    "resemblance of the finite element solution with the exact solution.\n",
    "\n",
    "But you might wonder, whether this contradicts {prf:ref}`Cea's lemma<ceas-lemma>`.\n",
    "Didn't it state that the finite element solution is \"almost\" as good as the \n",
    "best approximation we can achieve in our given finite element space?\n",
    "And the interpolated function $\\mathcal{I}(u_{\\mathrm{ex}})$ did look kind\n",
    "like a reasonable approximation, except for the failure of resolving the\n",
    "sharp boundary layer due to the relatively large mesh size?\n"
   ]
  },
  {
   "cell_type": "markdown",
   "metadata": {},
   "source": [
    "\n",
    "The key to understand the situation lies in the word *quasi*-best approximation,\n",
    "as {prf:ref}`Cea's lemma<ceas-lemma>` bounds the finite element error by the best approximation\n",
    "error **multiplied with the ratio** $C_a/\\alpha$ ! Let's have a look at \n",
    "the ratio in the case our ADR problem. Collecting the bounds from the previous \n",
    "section {ref}`sec:weak-formulation-adr`, we see that\n",
    "\n",
    "$$\n",
    "\\dfrac{C_a}{\\alpha}\n",
    " = \\dfrac{\\epsilon + \\|\\boldsymbol{b}\\|_{L^{\\infty}(\\Omega)} C_P + \\|c\\|_{L^{\\infty}(\\Omega)} C_P^2  }{\\epsilon}\n",
    "= 1 + \\dfrac{\\|\\boldsymbol{b}\\|_{L^{\\infty}(\\Omega)} C_P}{\\epsilon} \n",
    "+ \\dfrac{\\|c\\|_{L^{\\infty}(\\Omega)} C_P^2}{\\epsilon}  \n",
    "$$\n",
    "<!-- \n",
    "% = \\dfrac{\\epsilon + \\|\\boldsymbol{b}\\|_{L^{\\infty}(\\Omega)} C_P + \\|c\\|_{L^{\\infty}(\\Omega)} C_P^2  }{\\epsilon}\n",
    "% \\\\\n",
    "% = 1 + \\dfrac{\\|\\boldsymbol{b}\\|_{L^{\\infty}(\\Omega)}}{\\epsilon} \n",
    "% + \\dfrac{\\|c\\|_{L^{\\infty}(\\Omega)} C_P^2}{\\epsilon}  \n",
    "-->\n",
    "\n",
    "For ADR problems, the number \n",
    "\n",
    "$$\n",
    "\\mathrm{Pe} = \\dfrac{\\|\\boldsymbol{b} \\|_{L^{\\infty}(\\Omega)}C_P}{\\epsilon} \n",
    "$$(eq-Pe-num-def)\n",
    "\n",
    "is called the [**Péclet number**](https://en.wikipedia.org/wiki/P%C3%A9clet_number), \n",
    "while\n",
    "\n",
    "$$\n",
    "\\mathrm{Da} = \\dfrac{\\|c\\|_{L^{\\infty}(\\Omega)} C_P^2}{\\epsilon}\n",
    "$$(eq:Da-num-def)\n",
    "\n",
    "denotes the [**Damköhler number**](https://en.wikipedia.org/wiki/Damköhler_numbers).\n",
    "Note that the Poincaré constant $C_P$ scales like $\\mathrm{diam}(\\Omega)$ and using the\n",
    "proper physical units for reaction and diffusivity, we see that both numbers are\n",
    "dimensionalless.\n",
    "\n",
    "Now, for our example with the given domain, $\\epsilon$ and $\\boldsymbol{b}$, we\n",
    "see that that the ADR problem is **advection-dominant** in the sense that $\\mathrm{Pe} = 2000 \\gg 1$.\n",
    "An advection-dominant problem, the constant in Cea's lemma is of the size of the Péclet number \n",
    "which leads to an enormous amplification of the best-approximation error."
   ]
  },
  {
   "cell_type": "markdown",
   "metadata": {},
   "source": [
    "### A more refined a priori analysis\n",
    "\n",
    "Does our standard finite element discretization of the ADR problems \n",
    "always struggle in the case of large Péclet numbers? The answer is: it \n",
    "depends, namely on the resolution of the mesh compared to the thickness\n",
    "of the boundary layer. Let's investigate this in the next exercise."
   ]
  },
  {
   "cell_type": "markdown",
   "metadata": {},
   "source": [
    "````{exercise}\n",
    ":label: ex-mesh-peclet\n",
    "\n",
    "Set $\\epsilon = 10^{-2}$ in the example above and recompute the finite element solution\n",
    "for $h_{\\mathrm{max}} \\in \\{0.25, 10^{-1}, 0.5\\cdot 10^{-1}, 10^{-2}\\}$.\n",
    "How does the finite element solution behave? Can you relate it to the \n",
    "size of the (maximum of) so-called mesh Péclet number\n",
    "```{math}\n",
    "\\mathrm{Pe}_h = \\dfrac{\\|\\mathbf{b}\\|_{L^{\\infty}(\\Omega)}}{h}\n",
    "```\n",
    "````"
   ]
  },
  {
   "cell_type": "markdown",
   "metadata": {},
   "source": [
    "We can shed some light on the role of\n",
    "```{prf:definition} Mesh Péclet number\n",
    "\n",
    "$$\n",
    "\\mathrm{Pe}_T := \\dfrac{\\|\\mathbf{b}\\|_{L^{\\infty}(T)}}{h_T},\n",
    "\\quad \\mathrm{Pe}_h := \\max_{T\\in\\mathcal{T}_h} \\mathrm{Pe}_T\n",
    "$$ (eq:Pe-local-def)\n",
    "\n",
    "```\n",
    "```{prf:definition} Mesh Damköhler number\n",
    "\n",
    "$$\n",
    "\\mathrm{Da}_T := \\dfrac{\\|\\mathbf{b}\\|_{L^{\\infty}(T)}}{h_T},\n",
    "\\quad \\mathrm{Da}_h := \\max_{T\\in\\mathcal{T}_h} \\mathrm{Da}_T\n",
    "$$ (eq:Da-local-def)\n",
    "\n",
    "```\n",
    "\n",
    "through a slightly more refined a priori error analysis."
   ]
  },
  {
   "cell_type": "markdown",
   "metadata": {},
   "source": [
    "As in the proof of {prf:ref}`Cea's lemma <ceas-lemma>`, we start by considering the erro $\\|u -u_h\\|$ and combine\n",
    "coercivity, Galerkin's orthogonality and some slightly more careful use of Cauchy's inequalities to deduce that\n",
    "\n",
    "\\begin{align}\n",
    "\\epsilon \\|\\nabla(u - u_h)\\|_{\\Omega}^2\n",
    "&\\leqslant\n",
    "a(u-u_h, u-u_h)\n",
    "=\n",
    "a(u-u_h, u-\\pi_h u) \n",
    "\\\\\n",
    "&=\n",
    "\\epsilon(\\nabla (u-u_h), \\nabla (u-\\pi_h u))_{\\Omega} + (\\bfb\\cdot\\nabla (u-u_h), u-\\pi_h u)_{\\Omega} + (c (u-u_h) , u-\\pi_h u)_{\\Omega}\n",
    "\\\\\n",
    "&\\leqslant \n",
    "\\epsilon \n",
    "\\|\\nabla (u-u_h)\\|_{\\Omega}\n",
    "\\underbrace{\n",
    "\\|\\nabla (u-\\pi_h u)\\|_{\\Omega}\n",
    "}_{\\leqslant C h^k |u|_{k+1}}\n",
    "+ \n",
    "\\|\\nabla(u-u_h)\\|_{\\Omega} \n",
    "\\|\\bfb\\|_{L^{\\infty}(\\Omega)}\n",
    "\\underbrace{\n",
    "\\|u-\\pi_h u \\|_{\\Omega}}_{\\leqslant C h^{k+1} |u|_{k+1}}\n",
    "\\\\\n",
    "&\\quad +\n",
    "\\|c\\|_{L^{\\infty}(\\Omega)} \n",
    "\\underbrace{\\|u-u_h\\|_{\\Omega}}_{\\leqslant C_P \\|\\nabla(u-u_h)\\|_{\\Omega}}\n",
    "\\|u-\\pi_h u \\|_{\\Omega}\n",
    "\\\\\n",
    "&\\leqslant\n",
    "\\epsilon \n",
    "\\|\\nabla (u-u_h)\\|_{\\Omega}\n",
    "( h^{k}\n",
    "+ \n",
    "\\underbrace{\\dfrac{\\|\\bfb\\|_{L^{\\infty}(\\Omega)} h }{\\epsilon}}_{=\\mathrm{Pe}} h^{k}\n",
    "+\n",
    "\\underbrace{\\dfrac{\\|c\\|_{L^{\\infty}(\\Omega)} C_P h}{\\epsilon}}_{=\\mathrm{Da}} h^{k} \n",
    ") C |u|_{k+1, \\Omega}\n",
    "\\end{align}\n",
    "\n",
    "We see that there are various contributions from the different operators (advection, diffusion, reaction) in the a priori error estimate of finite element discretization of the ADR.\n",
    "In particular, we observe that each operator contributes with different $h$ orders to the total error\n",
    "estimate. Ideally, we would like to see those terms to be balanced.\n",
    "But e.g. in the case of an advection-dominant problem, we see that that the advection contribution will lead to a large error amplification whenever $\\mathrm{Pe}_T \\gg 1$, or in other words\n",
    "whe the finite element mesh is too coarse and does not resolve the advection contribution properly.\n",
    "In particular, boundary layer often arisen in this case, and they diminish the moment the mesh\n",
    "resolves the boundary layer, i.e. when $\\mathrm{Pe}_T \\sim 1$ for mesh elements in the boundary layer.  \n",
    "\n",
    "\n"
   ]
  },
  {
   "cell_type": "markdown",
   "metadata": {},
   "source": []
  }
 ],
 "metadata": {
  "kernelspec": {
   "display_name": "Python 3 (ipykernel)",
   "language": "python",
   "name": "python3"
  },
  "language_info": {
   "codemirror_mode": {
    "name": "ipython",
    "version": 3
   },
   "file_extension": ".py",
   "mimetype": "text/x-python",
   "name": "python",
   "nbconvert_exporter": "python",
   "pygments_lexer": "ipython3",
   "version": "3.12.5"
  },
  "vscode": {
   "interpreter": {
    "hash": "916dbcbb3f70747c44a77c7bcd40155683ae19c65e1c03b4aa3499c5328201f1"
   }
  }
 },
 "nbformat": 4,
 "nbformat_minor": 4
}
