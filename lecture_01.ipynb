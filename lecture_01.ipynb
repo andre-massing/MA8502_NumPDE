{
 "cells": [
  {
   "cell_type": "markdown",
   "metadata": {
    "slideshow": {
     "slide_type": "slide"
    }
   },
   "source": [
    "# MA8502 - Numerical Solution of Partial Differential Equations\n",
    "\n",
    "## Kick-off Meeting  "
   ]
  },
  {
   "cell_type": "code",
   "execution_count": 1,
   "metadata": {
    "slideshow": {
     "slide_type": "slide"
    }
   },
   "outputs": [
    {
     "data": {
      "text/html": [
       "<link href='http://fonts.googleapis.com/css?family=Alegreya+Sans:100,300,400,500,700,800,900,100italic,300italic,400italic,500italic,700italic,800italic,900italic' rel='stylesheet' type='text/css'> <link href='http://fonts.googleapis.com/css?family=Arvo:400,700,400italic' rel='stylesheet' type='text/css'> <link href=\"https://fonts.googleapis.com/css?family=News+Cycle\" rel=\"stylesheet\"> <link href='http://fonts.googleapis.com/css?family=Nixie+One' rel='stylesheet' type='text/css'> <link href='http://fonts.googleapis.com/css?family=PT+Mono' rel='stylesheet' type='text/css'> <link href='http://fonts.googleapis.com/css?family=Shadows+Into+Light' rel='stylesheet' type='text/css'> <link href=\"https://fonts.googleapis.com/css?family=Source+Code+Pro\" rel=\"stylesheet\"> <style> @font-face {\n",
       "    /*font-family: \"Computer Modern\";*/\n",
       "    /*src: url('http://mirrors.ctan.org/fonts/cm-unicode/fonts/otf/cmunss.otf');*/\n",
       "    font-family: 'News Cycle', sans-serif;\n",
       "}\n",
       "\n",
       "\n",
       "/* main background */\n",
       "\n",
       "\n",
       "/*#notebook_panel { \n",
       "        background: #C9D4E2;\n",
       "    }*/\n",
       "\n",
       "div.cell {\n",
       "    /*max-width:600px;*/\n",
       "    /*margin-left:16% !important;*/\n",
       "    /*margin-right:auto;*/\n",
       "}\n",
       "\n",
       "div.text_cell {\n",
       "    max-width: 120ex;\n",
       "    /* instead of 100%, */\n",
       "}\n",
       "\n",
       "div.text_cell_render {\n",
       "    font-family: 'Alegreya Sans', Computer Modern, \"Helvetica Neue\", Arial, Helvetica, Geneva,   sans-serif;\n",
       "    line-height: 135%;\n",
       "    /*font-size:    45pt;*/\n",
       "    font-size: 130%;\n",
       "    /*width:600px;*/\n",
       "    /*margin-left:auto;*/\n",
       "    /*margin-right:auto;*/\n",
       "}\n",
       "\n",
       ".CodeMirror {\n",
       "    /*font-family: 'Source Code Pro', monospace;*/\n",
       "    /*font-style: italic;*/\n",
       "    /*font-weight: bold;*/\n",
       "    /*font-size: 120%;*/\n",
       "}\n",
       "\n",
       "\n",
       "/*.prompt{\n",
       "        display: None;\n",
       "    }*/\n",
       "\n",
       ".text_cell_render h1 {\n",
       "    font-family: 'Nixie One', serifV;\n",
       "    font-style: regular;\n",
       "    font-weight: 400;\n",
       "    font-size: 45pt;\n",
       "    line-height: 100%;\n",
       "        color: #497BB9;    \n",
       "    /*color: #5889C5;*/\n",
       "    /*color: rgb(0, 51, 102);*/\n",
       "    /*font-weight: 200;*/\n",
       "    /*font-size: 50pt;*/\n",
       "    margin-bottom: 0.5em;\n",
       "    margin-top: 0.5em;\n",
       "    display: block;\n",
       "}\n",
       "\n",
       ".text_cell_render h2 {\n",
       "    font-family: 'Nixie One', serif;\n",
       "    font-weight: 400;\n",
       "    font-size: 30pt;\n",
       "    line-height: 100%;\n",
       "    /*color: rgb(0,51,102);*/\n",
       "    color: #497BB9;    \n",
       "    margin-bottom: 0.1em;\n",
       "    margin-top: 0.3em;\n",
       "    display: block;\n",
       "}\t\n",
       "\n",
       ".text_cell_render h3 {\n",
       "    font-family: 'Nixie One', serif;\n",
       "    margin-top:16px;\n",
       "    font-size: 22pt;\n",
       "    font-weight: 600;\n",
       "    margin-bottom: 3px;\n",
       "    font-style: regular;\n",
       "    color: rgb(102,102,0);\n",
       "}\n",
       "\n",
       ".text_cell_render h4 {    /*Use this for captions*/\n",
       "    font-family: 'Nixie One', serif;\n",
       "    font-size: 14pt;\n",
       "/*    text-align: center;*/\n",
       "    margin-top: 0em;\n",
       "    margin-bottom: 2em;\n",
       "    font-style: regular;\n",
       "}\n",
       "\n",
       ".text_cell_render h5 {  /*Use this for small titles*/\n",
       "    font-family: 'Nixie One', sans-serif;\n",
       "    font-weight: 400;\n",
       "    font-size: 16pt;\n",
       "    color: rgb(163,0,0);\n",
       "    /*color: #5889C5;*/\n",
       "    /*margin-bottom: .5em;\n",
       "    margin-top: 0.5em;*/\n",
       "    font-style: italic;\n",
       "    margin-bottom: .1em;\n",
       "    margin-top: 0.8em;\n",
       "    display: block;\n",
       "}\n",
       "\n",
       ".warning {\n",
       "    color: rgb( 240, 20, 20)\n",
       "}\n",
       "\n",
       "</style> \n",
       "<script>\n",
       " MathJax.Hub.Config( {\n",
       "    TeX: {\n",
       "        Macros: {\n",
       "            NN: \"{\\\\bf N}\",\n",
       "            RR: \"{\\\\mathbb{R}}\",\n",
       "            mcO: \"{\\\\mathcal{O}}\"\n",
       "        },\n",
       "        equationNumbers: { autoNumber: \"AMS\" },\n",
       "        extensions: [\"AMSmath.js\", \"begingroup.js\"] \n",
       "    },\n",
       "    tex2jax: {\n",
       "        inlineMath: [ ['$', '$'], [\"\\\\(\", \"\\\\)\"]], displayMath: [ ['$$', '$$'], [\"\\\\[\", \"\\\\]\"]]\n",
       "    },\n",
       "    displayAlign: 'center', // Change this to 'center' to center equations.\n",
       "    \"HTML-CSS\": {\n",
       "        styles: {\n",
       "            '.MathJax_Display': {\n",
       "                \"margin\": 4\n",
       "            }\n",
       "        }\n",
       "    }\n",
       "}\n",
       ");\n",
       "</script>\n"
      ],
      "text/plain": [
       "<IPython.core.display.HTML object>"
      ]
     },
     "execution_count": 1,
     "metadata": {},
     "output_type": "execute_result"
    }
   ],
   "source": [
    "from IPython.core.display import HTML\n",
    "def css_styling():\n",
    "    try:\n",
    "        with open(\"tma4125.css\", \"r\") as f:\n",
    "            styles = f.read()\n",
    "            return HTML(styles)\n",
    "    except FileNotFoundError:\n",
    "        print(\"Could not find css file ...\")\n",
    "        pass #Do nothing\n",
    "\n",
    "# Comment out next line and execute this cell to restore the default notebook style \n",
    "css_styling()"
   ]
  },
  {
   "cell_type": "markdown",
   "metadata": {
    "slideshow": {
     "slide_type": "slide"
    }
   },
   "source": [
    "## Course content and objectives\n",
    "\n",
    "Excerpts taken from <a href=\"https://www.ntnu.edu/studies/courses/MA8502#tab=omEmnet\">current course description</a>:\n",
    "\n",
    "* This course will treat selected topics within analysis and application of the finite element method in computational mechanics, with particular emphasis on **computational methods for incompressible fluid flow**."
   ]
  },
  {
   "cell_type": "markdown",
   "metadata": {
    "slideshow": {
     "slide_type": "slide"
    }
   },
   "source": [
    "* For the spatial discretization, emphasis will be put on **state-of-the-art discretization approaches** such as higher order spectral element methods, discontinuous Galerkin methods, or isogeometric methods."
   ]
  },
  {
   "cell_type": "markdown",
   "metadata": {
    "slideshow": {
     "slide_type": "slide"
    }
   },
   "source": [
    "* The **time discretization** will include higher order methods as well as operator splitting methods. "
   ]
  },
  {
   "cell_type": "markdown",
   "metadata": {
    "slideshow": {
     "slide_type": "slide"
    }
   },
   "source": [
    "* The **treatment of general boundary conditions and deformed geometry** will be discussed. Finally, efficient computation of quantities derived from the numerical solution (\"outputs of interest\") will be discussed"
   ]
  },
  {
   "cell_type": "markdown",
   "metadata": {
    "slideshow": {
     "slide_type": "slide"
    }
   },
   "source": [
    "To this end we will develop, theoretically analyze, and practically implement numerical methods for the following *prototype problems*: "
   ]
  },
  {
   "cell_type": "markdown",
   "metadata": {
    "slideshow": {
     "slide_type": "slide"
    }
   },
   "source": [
    "### Navier-Stokes equations \n",
    "describing incompressible, viscous flow in terms of the fluid velocity $\\bfu$ and the fluid pressure $p$\n",
    "\n",
    "$$\n",
    "\\partial_t \\bfu + (\\bfu \\cdot \\nabla) \\bfu - \\nu \\Delta \\bfu + \\nabla p = \\bff \\\\\n",
    "\\nabla \\cdot \\bfu = 0\n",
    "$$\n",
    "Here $\\nu=\\tfrac{\\rho}{\\mu}$ is the kinematic viscosity, and $\\rho$ and $\\mu$ denote the fluid density and dynamic viscosity. "
   ]
  },
  {
   "cell_type": "markdown",
   "metadata": {
    "slideshow": {
     "slide_type": "slide"
    }
   },
   "source": [
    "### Darcy's equation\n",
    "describing  the incompressible, single-phase fluid flow in a porous media\n",
    "in terms of the fluid velocity $\\bfu$ and the fluid pressure $p$\n",
    "\n",
    "$$\n",
    " \\bfu + \\dfrac{\\bfK}{\\mu} \\nabla p = \\bff \\\\\n",
    "\\nabla \\cdot \\bfu = 0\n",
    "$$\n",
    "\n",
    "Here, $\\bff$ is often given by $\\bff = - \\rho \\bfg \\nabla z$ with $z$ being the depth and $\\bfg$ being the gravitational acceleration."
   ]
  },
  {
   "cell_type": "markdown",
   "metadata": {
    "slideshow": {
     "slide_type": "slide"
    }
   },
   "source": [
    "The final goal is of course to produce colorful videos ;) such like this "
   ]
  },
  {
   "cell_type": "code",
   "execution_count": 2,
   "metadata": {
    "scrolled": true,
    "slideshow": {
     "slide_type": "slide"
    }
   },
   "outputs": [
    {
     "data": {
      "text/html": [
       "<center><video width=\"800\" controls=\"\"><source src=\"lecture_01_files/flow-around-a-cylinder.mpg\"></video></center>\n"
      ],
      "text/plain": [
       "<IPython.core.display.HTML object>"
      ]
     },
     "metadata": {},
     "output_type": "display_data"
    }
   ],
   "source": [
    "%%HTML \n",
    "<center><video width=\"800\" controls=\"\"><source src=\"lecture_01_files/flow-around-a-cylinder.mpg\"></video></center>"
   ]
  },
  {
   "cell_type": "markdown",
   "metadata": {
    "slideshow": {
     "slide_type": "slide"
    }
   },
   "source": [
    "* Previous course editions (until 2018): Much focus on **high order** spectral element methods\n",
    "* Since 2020, we plan to broaden the scope of discretization techniques by including recent methods which have been emerging during the last 5-10 years."
   ]
  },
  {
   "cell_type": "markdown",
   "metadata": {
    "slideshow": {
     "slide_type": "slide"
    }
   },
   "source": [
    "In particular, the core of the lectures will consists of\n",
    "\n",
    "1. Crash course in finite element method\n",
    "2. Classical and modern discontinuous Galerkin methods for the advection-diffusion problems\n",
    "3. Abstract saddle point theory to analyse flow type problems\n",
    "4. Classical FEM discretization of Stokes's problem\n",
    "5. Classical FEM discretization of Daryc's problem \n",
    "6. Structure preserving numerical methods for flow problems with a focus on pointwise divergence-free discretization methods based on novel discontinuous Galerkin methods and isogeometric methods\n",
    "7. Time-discretization of (Navier-Stokes) flow problems"
   ]
  },
  {
   "cell_type": "markdown",
   "metadata": {
    "slideshow": {
     "slide_type": "slide"
    }
   },
   "source": [
    "If time permits, additional topics can be\n",
    "* modern approaches to  solve  fluid flow problems on moving domain, e.g. in fluid-structure interaction problems or incompressible two-phase flow problems including recent unfitted finite element technologies,\n",
    "* discretization methods for partial differential equations on (moving) surfaces as they appear in many important science and engineering problems\n",
    "* Alternative suggestions or wishes?"
   ]
  },
  {
   "cell_type": "markdown",
   "metadata": {
    "slideshow": {
     "slide_type": "slide"
    }
   },
   "source": [
    "## Exercises\n",
    "\n",
    "I will distribute a number of problem sets containing both **theoretical and implementation task**\n",
    "to help you digest the material.\n",
    "You don't have to submit solutions for those, but I am happy to give you hints,  discuss solution approaches etc. during office hours.\n",
    "\n",
    "To pass the course, I will ask you to present/discuss the solution of **one** problem\n",
    "at some point during course."
   ]
  },
  {
   "cell_type": "markdown",
   "metadata": {
    "slideshow": {
     "slide_type": "slide"
    }
   },
   "source": [
    "## Passing and Grading\n",
    "\n",
    "* You can only pass or fail the course, no letter grades!\n",
    "* oral exam at the end of the course (~ 45min)\n",
    "* Compulsory work prior to exam:\n",
    "    * project work \n",
    "    * one seminar presentation \n",
    "   "
   ]
  },
  {
   "cell_type": "markdown",
   "metadata": {
    "slideshow": {
     "slide_type": "slide"
    }
   },
   "source": [
    "## Projects and seminar topics\n",
    "\n",
    "* I will suggest a default project which will consist of two individual parts where you will be asked to solve variations of  the classical  \n",
    "<a href=\"http://www.mathematik.tu-dortmund.de/~featflow/en/benchmarks/cfdbenchmarking/flow/dfg_benchmark1_re20.html\">\"Turek\" benchmarks \"flow around a sphere/cylinder\"</a> \n",
    "with your favorite method of the course."
   ]
  },
  {
   "cell_type": "markdown",
   "metadata": {
    "slideshow": {
     "slide_type": "fragment"
    }
   },
   "source": [
    "* If you however alternative project ideas, maybe even one related to your own research, I am very much open to suggestions and more than happy to support alternative project suggestions (to the best of my abilities :) )  "
   ]
  },
  {
   "cell_type": "markdown",
   "metadata": {
    "slideshow": {
     "slide_type": "slide"
    }
   },
   "source": [
    "* For example, you might want to solve complex multi-physics flow problems such as fluid-structure interaction problems to produce even fancier videos: "
   ]
  },
  {
   "cell_type": "code",
   "execution_count": 3,
   "metadata": {
    "slideshow": {
     "slide_type": "slide"
    }
   },
   "outputs": [
    {
     "data": {
      "image/jpeg": "[encoded data removed]",
      "text/html": [
       "\n",
       "        <iframe\n",
       "            width=\"1000\"\n",
       "            height=\"500\"\n",
       "            src=\"https://www.youtube.com/embed/TFfLtDijXd0\"\n",
       "            frameborder=\"0\"\n",
       "            allowfullscreen\n",
       "            \n",
       "        ></iframe>\n",
       "        "
      ],
      "text/plain": [
       "<IPython.lib.display.YouTubeVideo at 0x107e25ee0>"
      ]
     },
     "execution_count": 3,
     "metadata": {},
     "output_type": "execute_result"
    }
   ],
   "source": [
    "from IPython.display import YouTubeVideo, HTML\n",
    "YouTubeVideo('TFfLtDijXd0', width=1000, height=500)"
   ]
  },
  {
   "cell_type": "markdown",
   "metadata": {
    "slideshow": {
     "slide_type": "slide"
    }
   },
   "source": [
    "* Seminar topics can be either presentation of solution to some (larger) problems posed in the lectures notes, a summary presentation (of parts) of a research article your interested in, or some extensions to the material we present in the course."
   ]
  },
  {
   "cell_type": "markdown",
   "metadata": {
    "slideshow": {
     "slide_type": "slide"
    }
   },
   "source": [
    "Most importantly: I want you to have fun with your project and seminar topic! "
   ]
  },
  {
   "cell_type": "markdown",
   "metadata": {
    "slideshow": {
     "slide_type": "slide"
    }
   },
   "source": [
    "## Timeslots for lectures and tutorials/seminars\n",
    "\n",
    "* Roughly 24 lectures\n",
    "* Lectures: Double block on Monday, 12:00-16:00, Byggteknisk, L11 \n",
    "* Tutorials/seminars (after announcement): Friday 14:00-16:00, lecture room will be booked on need-to basis \n"
   ]
  },
  {
   "cell_type": "markdown",
   "metadata": {
    "slideshow": {
     "slide_type": "slide"
    }
   },
   "source": [
    "## Reading material\n",
    "\n",
    "A digital reading list consisting of book chapters from multiple source as well\n",
    "as arcticles is provided on our \n",
    "<a href=\"https://wiki.math.ntnu.no/ma8502/2022h/lectures_and_exercises\">wiki page</a>."
   ]
  },
  {
   "cell_type": "markdown",
   "metadata": {
    "slideshow": {
     "slide_type": "slide"
    }
   },
   "source": [
    "## Software\n",
    "\n",
    "* We will mostly use open source finite element libraries with a high-level interface to solve complex problems, see <a href=\"https://wiki.math.ntnu.no/ma8502/2022h/course_info#software\"> our wiki page </a> for more information on our two suggestions \n",
    "<a href=\"https://ngsolve.org/\">ngsolve</a> (Python/C++-based) and\n",
    "<a href=\"https://github.com/gridap/Gridap.jl\"> gridap</a> (Julia-based)"
   ]
  },
  {
   "cell_type": "markdown",
   "metadata": {
    "slideshow": {
     "slide_type": "fragment"
    }
   },
   "source": [
    "* If you already have a favorite FEM library e.g.\n",
    "<a href=\"https://www.firedrakeproject.org/\"> firedrake </a>,\n",
    "<a href=\"https://fenicsproject.org/\"> FEniCSx </a>,\n",
    "<a href=\"https://www.dealii.org/\"> deal.ii </a>,\n",
    "you want to use and has all the\n",
    "necessary capabilities, then you are more welcome to do so!"
   ]
  },
  {
   "cell_type": "markdown",
   "metadata": {
    "slideshow": {
     "slide_type": "slide"
    }
   },
   "source": [
    "## Mentimeter time!"
   ]
  }
 ],
 "metadata": {
  "anaconda-cloud": {},
  "celltoolbar": "Slideshow",
  "kernelspec": {
   "display_name": "Python 3 (ipykernel)",
   "language": "python",
   "name": "python3"
  },
  "language_info": {
   "codemirror_mode": {
    "name": "ipython",
    "version": 3
   },
   "file_extension": ".py",
   "mimetype": "text/x-python",
   "name": "python",
   "nbconvert_exporter": "python",
   "pygments_lexer": "ipython3",
   "version": "3.12.5"
  },
  "nbpresent": {
   "slides": {},
   "themes": {}
  },
  "vscode": {
   "interpreter": {
    "hash": "916dbcbb3f70747c44a77c7bcd40155683ae19c65e1c03b4aa3499c5328201f1"
   }
  }
 },
 "nbformat": 4,
 "nbformat_minor": 4
}
