{
 "cells": [
  {
   "cell_type": "markdown",
   "metadata": {},
   "source": [
    "# Tutorial 1: Poisson problem with Dirichlet conditions and code validation\n",
    "\n",
    "In this tutorial, we will learn\n",
    "- How to solve a Poisson problem with inhomogeneous Dirichlet boundary conditions using Gridap\n",
    "- How to implement the method of manufactured solutions\n",
    "- How to perform a convergence test\n",
    "- How to define the discretization error\n",
    "- How to integrate error norms\n"
   ]
  },
  {
   "cell_type": "markdown",
   "metadata": {},
   "source": [
    "\n",
    "## Problem statement\n",
    "In this tutorial, we consider the Poisson equation in the unit square $\\Omega\\doteq (0,1)^2$\n",
    "with *homogeneous* Dirichlet boundary conditions as a model problem:\n",
    "\n",
    "\\begin{equation}\n",
    "\\left\\lbrace\n",
    "\\begin{aligned}\n",
    "-\\Delta u = f  \\ \\text{in} \\ \\Omega\\\\\n",
    "u = 0 \\ \\text{on}\\ \\partial\\Omega.\\\\\n",
    "\\end{aligned}\n",
    "\\right.\n",
    "\\end{equation}\n",
    "\n",
    "This is the \"Hello World\" version of most numerical methods for (elliptic) PDEs\n",
    "and we show how easily it can be solved in NGsolve.\n",
    "\n",
    "Afterwards, we will quickly show how to validate your code using\n",
    "the well known *method of manufactured solutions*.\n"
   ]
  },
  {
   "cell_type": "markdown",
   "metadata": {},
   "source": [
    "\n",
    "Note: This tutorial is forged from the [NGSolve i-tutorial](https://docu.ngsolve.org/latest/i-tutorials/index.html), in particular from the sections\n",
    "- [Whetting your appetite](https://docu.ngsolve.org/latest/i-tutorials/index.html#whetting-the-appetite)\n",
    "- [Getting started](https://docu.ngsolve.org/latest/i-tutorials/index.html#getting-started)"
   ]
  },
  {
   "cell_type": "markdown",
   "metadata": {},
   "source": [
    "## Part 1:  Five quick steps to compute the solution"
   ]
  },
  {
   "cell_type": "markdown",
   "metadata": {},
   "source": [
    "#### 1. Import NGSolve and Netgen Python modules:"
   ]
  },
  {
   "cell_type": "code",
   "execution_count": null,
   "metadata": {},
   "outputs": [],
   "source": [
    "from ngsolve import *\n",
    "from ngsolve.webgui import Draw"
   ]
  },
  {
   "cell_type": "markdown",
   "metadata": {},
   "source": [
    "#### 2. Generate an unstructured mesh\n",
    "Here we prescribed a maximal mesh-size of 0.2 using the `maxh` flag. \n",
    "The various parts of boundary are automatically tag with particular\n",
    "names to handle boundary conditions later."
   ]
  },
  {
   "cell_type": "code",
   "execution_count": null,
   "metadata": {},
   "outputs": [],
   "source": [
    "mesh = Mesh(unit_square.GenerateMesh(maxh=0.2))\n",
    "print(mesh.GetBoundaries())\n",
    "Draw(mesh);"
   ]
  },
  {
   "cell_type": "markdown",
   "metadata": {},
   "source": [
    "#### 3. Declare a finite element space and corresponding test and trial function\n",
    "\n",
    "* Test and trial function are symbolic objects - called `ProxyFunctions` -  that help you construct bilinear forms (and have no space to hold solutions). \n",
    "* We also specify where we want to set Dirichlet boundary conditions. Those are typically built\n",
    "  into the problem via contraining the dofs (strong imposition).\n",
    "* Here, mark all boundaries which have the tag \"bottom\" or \"right\" or \"top\" or \"left\"."
   ]
  },
  {
   "cell_type": "code",
   "execution_count": null,
   "metadata": {},
   "outputs": [],
   "source": [
    "V = H1(mesh, order=2, dirichlet=\"bottom|right|top|left\")\n",
    "\n",
    "u = V.TrialFunction()  # symbolic object\n",
    "v = V.TestFunction()   # symbolic object"
   ]
  },
  {
   "cell_type": "markdown",
   "metadata": {},
   "source": [
    "Alternately, you can get both the trial and test variables at once:"
   ]
  },
  {
   "cell_type": "markdown",
   "metadata": {},
   "source": [
    "```python\n",
    "u, v = V.TnT()\n",
    "```"
   ]
  },
  {
   "cell_type": "markdown",
   "metadata": {},
   "source": [
    "#### 4. Define and assemble linear and bilinear forms:"
   ]
  },
  {
   "cell_type": "code",
   "execution_count": null,
   "metadata": {},
   "outputs": [],
   "source": [
    "a = BilinearForm(V)\n",
    "a += grad(u)*grad(v)*dx\n",
    "a.Assemble()\n",
    "\n",
    "f = 32 * (y*(1-y)+x*(1-x))\n",
    "l = LinearForm(V)\n",
    "l += f*v*dx\n",
    "l.Assemble();"
   ]
  },
  {
   "cell_type": "markdown",
   "metadata": {},
   "source": [
    "Alternately, we can do one-liners: "
   ]
  },
  {
   "cell_type": "markdown",
   "metadata": {},
   "source": [
    "```python\n",
    "a = BilinearForm(grad(u)*grad(v)*dx).Assemble()\n",
    "f = LinearForm( 32 * (y*(1-y)+x*(1-x))  ).Assemble()\n",
    "```"
   ]
  },
  {
   "cell_type": "markdown",
   "metadata": {},
   "source": [
    "#### 5. Solve the system:\n",
    "\n",
    "To find the numerical solution, we need \n",
    "\n",
    "1. Solve the (potentially large) linear algebra system $AU = F$ resulting from the discrete weak formulation\n",
    "2. Have a way to translate the solution vector $U$ back into a discrete finite element functions. This is done via `GridFunctions` which represent functions in the finite element space and contains memory to hold coefficient vectors $U$."
   ]
  },
  {
   "cell_type": "code",
   "execution_count": null,
   "metadata": {},
   "outputs": [],
   "source": [
    "uh = GridFunction(V)\n",
    "Ainv =  a.mat.Inverse(freedofs=V.FreeDofs()) \n",
    "uh.vec.data =  Ainv * l.vec\n",
    "Draw(uh)\n",
    "Draw(-grad(uh), mesh, \"Flux\", vectors=True)"
   ]
  },
  {
   "cell_type": "markdown",
   "metadata": {},
   "source": [
    "The Dirichlet boundary condition constrains some degrees of freedom. The argument `fes.FreeDofs()` indicates that only the remaining \"free\" degrees of freedom should participate in the linear solve."
   ]
  },
  {
   "cell_type": "markdown",
   "metadata": {},
   "source": [
    "You can examine the coefficient vector of solution if needed:"
   ]
  },
  {
   "cell_type": "code",
   "execution_count": null,
   "metadata": {},
   "outputs": [],
   "source": [
    "print(uh.vec)"
   ]
  },
  {
   "cell_type": "markdown",
   "metadata": {},
   "source": [
    "You can see the zeros coming from the zero boundary conditions."
   ]
  },
  {
   "cell_type": "markdown",
   "metadata": {},
   "source": [
    "## Ways to interact with NGSolve"
   ]
  },
  {
   "cell_type": "markdown",
   "metadata": {},
   "source": [
    "* A jupyter notebook (like this one) gives you one way to interact with NGSolve. When you have a complex sequence of tasks to perform, the notebook may not be adequate.\n",
    "\n",
    "\n",
    "* You can write an entire python module in a text editor and call python on the command line. (A script of the above is provided in `poisson.py`.)\n",
    "    ```\n",
    "    python3 poisson.py\n",
    "    ```\n",
    "  \n",
    "* If you want the Netgen GUI, then use `netgen` on the command line:\n",
    "    ```\n",
    "    netgen poisson.py\n",
    "    ```\n",
    "  You can then ask for a python shell from the GUI's menu options (`Solve -> Python shell`).\n",
    "  "
   ]
  },
  {
   "cell_type": "markdown",
   "metadata": {},
   "source": [
    "# Part 2: Method of manufactured solution"
   ]
  },
  {
   "cell_type": "markdown",
   "metadata": {},
   "source": [
    "The idea is simple: for a given PDE problem involving\n",
    "\n",
    "* partial differential equation(s)\n",
    "* predescribed boundary values (e.g. Dirchlet, Neumann)\n",
    "* predescribed initial values (for time-dependent problems)\n",
    "\n",
    "we pick a solution function $u_{ex}$ ourselves and the compute analytically the corresponding\n",
    "data for the PDE. For instance, the right-hand side $f$ is simply $f = - \\Delta u_{ex}$."
   ]
  },
  {
   "cell_type": "markdown",
   "metadata": {},
   "source": [
    "Let's pick\n",
    "\\begin{equation*}\n",
    "u_{ex}(x,y) = 16x(1-x)y(1-y)\n",
    "\\end{equation*}\n",
    "Then \n",
    "\\begin{equation*}\n",
    " -\\Delta u_{ex}(x,y) = 32(y(1-y)+x(1-x)), \\quad u_{ex}|_{\\partial \\Omega} = 0,\n",
    "\\end{equation*}\n",
    " so by some funny coincidence this is exactly the $f$ we used above ;)."
   ]
  },
  {
   "cell_type": "markdown",
   "metadata": {},
   "source": [
    "From theory we know that the $L^2$ error can be estimated by\n",
    "\\begin{equation*}\n",
    "err(h) = \\left(\\int_{\\Omega}(u - u_h)^2 \\;dx \\right)^{1/2} \\leqslant C h^{p} \n",
    "\\end{equation*}\n",
    "where $p = k+1$ and $k$ is the polynomial order of finite elements."
   ]
  },
  {
   "cell_type": "markdown",
   "metadata": {},
   "source": [
    "So asymptotically for $h \\to 0$, we see that $e(h) \\approx C h^{p}$, so \n",
    "\\begin{equation*}\n",
    "\\log(e(h)) \\approx p\\log(h) + \\log(C)\n",
    "\\end{equation*}\n",
    "For a convergence study, where compute the discrete solution and measure the error against the known analytical solution for series of refined meshes $\\mathcal{T}_k$ with\n",
    "$h_k \\to 0$.\n",
    "\n",
    "If we know plot the computed errors against the corresponding mesh size $h_k$ \n",
    "in a $\\log-\\log$ plot, we should roughly see a straight line with a slope of $\\approx p = k+1$\n"
   ]
  },
  {
   "cell_type": "code",
   "execution_count": null,
   "metadata": {},
   "outputs": [],
   "source": [
    "u_ex = 16*x*(1-x)*y*(1-y)\n",
    "mesh = Mesh(unit_square.GenerateMesh(maxh=0.2))\n",
    "num_ref = 3\n",
    "errs = []\n",
    "scene = Draw(uh)\n",
    "\n",
    "for ref in range(num_ref+1):\n",
    "    V = H1(mesh, order=1, dirichlet=\"bottom|right|top|left\")\n",
    "    u = V.TrialFunction()  # symbolic object\n",
    "    v = V.TestFunction()\n",
    "    # symbolic object\n",
    "    a = BilinearForm(V)\n",
    "    a += grad(u)*grad(v)*dx\n",
    "    a.Assemble()\n",
    "\n",
    "    f = 32 * (y*(1-y)+x*(1-x))\n",
    "    l = LinearForm(V)\n",
    "    l += f*v*dx\n",
    "    l.Assemble()\n",
    "\n",
    "    uh = GridFunction(V)\n",
    "    Ainv =  a.mat.Inverse(freedofs=V.FreeDofs()) \n",
    "    uh.vec.data =  Ainv * l.vec\n",
    "    errs.append(sqrt (Integrate ( (uh-u_ex)*(uh-u_ex), mesh)))\n",
    "    print(errs[-1])\n",
    "    scene.Redraw()\n",
    "    mesh.Refine()"
   ]
  },
  {
   "cell_type": "code",
   "execution_count": null,
   "metadata": {},
   "outputs": [],
   "source": [
    "import numpy as np\n",
    "import pandas as pd\n",
    "def compute_eoc(errs, fac=2):\n",
    "    eocs = np.log(np.array(errs)[:-1]/np.array(errs)[1:])/np.log(fac)\n",
    "    eocs = np.insert(eocs, 0, np.inf)\n",
    "    return eocs\n",
    "\n",
    "eocs = compute_eoc(errs)\n",
    "print(eocs)\n",
    "print(errs)\n",
    "table = pd.DataFrame({'Error': errs, 'EOC' : eocs})\n",
    "display(table)"
   ]
  },
  {
   "cell_type": "markdown",
   "metadata": {},
   "source": [
    "## Exercise \n",
    "\n",
    "Now repeat the convergence study above for $p=2,3,4$. What do you observe and why? "
   ]
  }
 ],
 "metadata": {
  "kernelspec": {
   "display_name": "Python 3 (ipykernel)",
   "language": "python",
   "name": "python3"
  },
  "language_info": {
   "codemirror_mode": {
    "name": "ipython",
    "version": 3
   },
   "file_extension": ".py",
   "mimetype": "text/x-python",
   "name": "python",
   "nbconvert_exporter": "python",
   "pygments_lexer": "ipython3",
   "version": "3.12.5"
  }
 },
 "nbformat": 4,
 "nbformat_minor": 4
}
